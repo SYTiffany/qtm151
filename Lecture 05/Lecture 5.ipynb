{
 "cells": [
  {
   "attachments": {},
   "cell_type": "markdown",
   "metadata": {},
   "source": [
    "# <span style=\"color:lightblue\"> Lecture 5: Loops </span>"
   ]
  },
  {
   "attachments": {},
   "cell_type": "markdown",
   "metadata": {},
   "source": [
    "<font size=\"5\"> \n",
    "\n",
    "In the previous class we:\n",
    "- Introduced boolean types and if/else statments\n",
    "- Introduced a type of structure with indendented code"
   ]
  },
  {
   "attachments": {},
   "cell_type": "markdown",
   "metadata": {},
   "source": [
    "<font size=\"5\"> \n",
    "\n",
    "In this class we will:\n",
    "\n",
    "- Talk about basic manipulation of lists\n",
    "- Introduce \"For\" Loops and examples of key algorithms"
   ]
  },
  {
   "attachments": {},
   "cell_type": "markdown",
   "metadata": {},
   "source": [
    "## <span style=\"color:lightblue\"> I. Import Libraries </span>"
   ]
  },
  {
   "cell_type": "code",
<<<<<<< Updated upstream
   "execution_count": null,
=======
   "execution_count": 7,
>>>>>>> Stashed changes
   "metadata": {},
   "outputs": [],
   "source": [
    "# the \"numPy\" library is used for mathematical operations\n",
    "# the \"matplotlib\" library is for generating graphs\n",
    "# the \"pandas\" library is for manipualting datasets\n",
    "\n",
    "import numpy as np\n",
    "import matplotlib.pyplot as plt\n",
    "import pandas as pd"
   ]
  },
  {
   "attachments": {},
   "cell_type": "markdown",
   "metadata": {},
   "source": [
    "## <span style=\"color:lightblue\"> II. Manipulating Lists"
   ]
  },
  {
   "attachments": {},
   "cell_type": "markdown",
   "metadata": {},
   "source": [
    "<font size = \"5\"> Blank slate: Lists with null values\n",
    "\n",
    "- We've seen \"int\", \"float\", \"str\", \"boleean\"\n",
    "- There is also \"None\" (or null)\n",
    "- Can add real values later"
   ]
  },
  {
   "cell_type": "code",
   "execution_count": null,
   "metadata": {},
   "outputs": [],
   "source": [
    "# Simply type \"None\"\n",
    "\n",
    "list_answers = [None,None,None]\n",
    "\n",
    "print(list_answers)\n"
   ]
  },
  {
   "attachments": {},
   "cell_type": "markdown",
   "metadata": {},
   "source": [
    "<font size = \"5\">\n",
    "\n",
    "Assigning/replacing values to lists\n",
    "\n"
   ]
  },
  {
   "cell_type": "code",
   "execution_count": null,
   "metadata": {},
   "outputs": [],
   "source": [
    "# Assign values with the command \"list_answers[index] = value\".\n",
    "# Let's assign names! Which ones do you like?\n",
    "\n",
    "list_answers[0] = \"Atlanta\"\n",
    "list_answers[1] = \"Chicago\"\n",
    "list_answers[2] = \"Boston\"\n"
   ]
  },
  {
   "attachments": {},
   "cell_type": "markdown",
   "metadata": {},
   "source": [
    "<font size = \"5\">\n",
    "\n",
    "Appending values to lists\n"
   ]
  },
  {
   "cell_type": "code",
   "execution_count": null,
   "metadata": {},
   "outputs": [],
   "source": [
    "# We can start an empty list with []\n",
    "# Use the command \"new_list.append(item)\" with the function \"append()\"\n",
    "# an an arbitrary value of \"item\"\n",
    "\n",
    "new_list = []\n",
    "new_list.append(\"Tueseday\")\n",
    "new_list.append(\"Monday\")\n",
<<<<<<< Updated upstream
    "new_list.append(\"Sunday\")\n",
=======
>>>>>>> Stashed changes
    "\n",
    "print(new_list)\n"
   ]
  },
  {
   "attachments": {},
   "cell_type": "markdown",
   "metadata": {},
   "source": [
    "<font size = \"5\" > Lists with repeated values"
   ]
  },
  {
   "cell_type": "code",
   "execution_count": null,
   "metadata": {},
   "outputs": [],
   "source": [
    "# Repeat a single value 30 times\n",
    "list_two_rep = [7] * 30\n",
    "\n",
    "# Repeat a list 4 times\n",
    "list_answers_rep = list_answers * 4 \n",
    "\n",
    "# Repeat of 8 null values\n",
    "list_none_rep = [None] * 8 \n",
    "\n",
    "\n",
    "print(list_two_rep)\n",
    "print(list_answers_rep)\n",
    "print(list_none_rep)\n"
   ]
  },
  {
   "attachments": {},
   "cell_type": "markdown",
   "metadata": {},
   "source": [
    "<font size = \"5\"> Counting length of vectors"
   ]
  },
  {
   "cell_type": "code",
   "execution_count": null,
   "metadata": {},
   "outputs": [],
   "source": [
    "# len() is a function that counts the number of elements\n",
    "\n",
    "print(len(list_answers))\n",
    "print(len(list_two_rep))\n",
    "print(len(list_answers_rep))\n"
   ]
  },
  {
   "attachments": {},
   "cell_type": "markdown",
   "metadata": {},
   "source": [
    "<font size = \"5\">\n",
    "Try it yourself!\n",
    "\n",
    "- Create an empty list called \"list_personal\"\n",
    "- Add two more values using \".append\"\n",
    "- Find the total length of the list\n",
    "- Change the last value to \"Last element\""
   ]
  },
  {
   "cell_type": "code",
   "execution_count": null,
   "metadata": {},
   "outputs": [],
   "source": [
    "list_personal = []\n",
    "list_personal.append(\"I love languages\")\n",
    "list_personal.append(\"data science\")\n",
    "\n",
<<<<<<< Updated upstream
    "print(len(list_personal))\n",
    "\n",
    "list_personal[-1] = \"last element\""
   ]
  },
  {
   "cell_type": "code",
   "execution_count": null,
   "metadata": {},
   "outputs": [],
   "source": [
    "\n",
    "list_personal = []\n",
    "list_personal.append(\"me before you\")\n",
    "list_personal.append(\"one day\")\n",
    "\n",
    "print(len(list_personal))\n",
    "\n",
=======
    "list_personal = []\n",
    "list_personal.append(\"me before you\")\n",
    "list_personal.append(\"one day\")\n",
    "\n",
    "print(len(list_personal))\n",
    "\n",
>>>>>>> Stashed changes
    "#list_personal[0] = (\"beautiful day\")\n",
    "#replace the first item in list\n",
    "\n",
    "list_personal[-1] = \"happy new year\"\n",
    "#[-1] the last item in an list"
   ]
  },
  {
   "attachments": {},
   "cell_type": "markdown",
   "metadata": {},
   "source": [
    "## <span style=\"color:lightblue\"> III. For Loops</span> \n",
    "\n",
    "<font size=\"5\"> \n",
    "\n",
    "One of the most important elements of computation is repetition\n",
    "-  We can do this with \"loops\".\n",
    "- In the next examples, we repeat a task for each element in a list\n",
    "\n",
    "Consider an example with three elements"
   ]
  },
  {
   "attachments": {},
   "cell_type": "markdown",
   "metadata": {},
   "source": [
    "<font size = \"5\">\n",
    "\n",
    "<table><tr>\n",
    "<td style = \"border:0px\"> <img src=\"figures/forloop.png\" alt=\"drawing\" width=\"300\"/>  </td>\n",
    "<td style = \"border:0px\">  Use concise syntax with a for-loop <br>\n",
    "\n",
    "``` python\n",
    "    for value in list_values:\n",
    "        Body\n",
    "```\n",
    " </td>\n",
    "</tr></table>\n"
   ]
  },
  {
   "attachments": {},
   "cell_type": "markdown",
   "metadata": {},
   "source": [
    "<font size = \"5\">\n",
    "\n",
    "Customized Messages"
   ]
  },
  {
   "cell_type": "code",
   "execution_count": null,
   "metadata": {},
   "outputs": [],
   "source": [
    "#------------------------------------------------------------------------------#\n",
    "#-------------   This produces exactly the same output as running -------------#\n",
    "#\n",
    "#    id_list = [\"KIA\", \"Ferrari\", \"Ford\", \"Tesla\"]\n",
    "#    print(\"Dear customer, we are writing about your \" + id_list[0] + \"\" car.\")\n",
    "#    print(\"Dear customer, we are writing about your \" + id_list[1] + \"\" car.\")\n",
    "#    print(\"Dear customer, we are writing about your \" + id_list[2] + \"\" car.\")\n",
    "#    print(\"Dear customer, we are writing about your \" + id_list[3] + \"\" car.\")\n",
    "#\n",
    "# Here we're concatenating strings with a \"+\" sign\n",
    "#\n",
    "#------------------------------------------------------------------------------#\n",
    "\n",
    "\n",
    "list_ids = [\"KIA\", \"Ferrari\", \"Ford\", \"Tesla\"]\n",
    "\n",
    "for id in list_ids:\n",
    "    print(\"Dear customer, we are writing about your \"  + id + \" car.\")\n",
    "\n"
   ]
  },
  {
   "attachments": {},
   "cell_type": "markdown",
   "metadata": {},
   "source": [
    "<font size = \"5\">\n",
    "\n",
    "Customized Messages + Numbering\n",
    "\n",
    "- Initiate \"index = 1\" before the loop\n",
    "- Add \"index = index + 1\" at the end of the body"
   ]
  },
  {
   "cell_type": "code",
   "execution_count": null,
   "metadata": {},
   "outputs": [],
   "source": [
    "#------------------------------------------------------------------------------#\n",
    "# One way to construct a sequence manually, is to gradually add numbers, e.g.\n",
    "#\n",
    "#     index = 1\n",
    "#     index = index + 1\n",
    "#     index = index + 1\n",
    "#     index = index + 1\n",
    "#     etc\n",
    "#\n",
    "#     We will do this automatically for a for loop!\n",
    "#\n",
    "#     Note: We can use \"str(index)\" to convert this to a string\n",
    "#\n",
    "#------------------------------------------------------------------------------#\n",
    "\n",
    "\n",
    "list_ids = [\"KIA\", \"Ferrari\", \"Ford\", \"Tesla\"]\n",
    "\n",
    "index = 1\n",
    "for id in list_ids:\n",
    "    print(\"Dear customer, your position is \" + str(index) + \" on the waitlist\" +\n",
    "           \" and your car brand is \" + id )\n",
    "    index = index + 1\n",
    "\n",
    "\n"
   ]
  },
  {
   "cell_type": "code",
   "execution_count": null,
   "metadata": {},
   "outputs": [],
   "source": [
    "list_brands = [\"southwestern\", \"delta\", \"spirit\"]\n",
    "\n",
    "index = 1"
   ]
  },
  {
   "attachments": {},
   "cell_type": "markdown",
   "metadata": {},
   "source": [
    "<font size = \"5\" >\n",
    "\n",
    "Plots for multiple variables"
   ]
  },
  {
   "cell_type": "code",
   "execution_count": null,
   "metadata": {},
   "outputs": [],
   "source": [
    "#------------------------------------------------------------------------------#\n",
    "#-------------   This produces exactly the same output as running -------------#\n",
    "#\n",
    "#    carfeatures = pd.read_csv(\"data/features.csv\")\n",
    "#    list_vars = [\"acceleration\",\"weight\"]\n",
    "#\n",
    "#    variable_name = \"acceleration\"\n",
    "#    plt.scatter(x= carfeatures[variable_name], y = carfeatures[\"mpg\"])\n",
    "#    plt.ylabel(\"mpg\")\n",
    "#    plt.xlabel(variable_name)\n",
    "#    plt.show()\n",
    "#\n",
    "#    variable_name = \"weight\"\n",
    "#    plt.scatter(x= carfeatures[variable_name], y = carfeatures[\"mpg\"])\n",
    "#    plt.ylabel(\"mpg\")\n",
    "#    plt.xlabel(variable_name)\n",
    "#    plt.show()\n",
    "#\n",
    "#------------------------------------------------------------------------------#\n",
    "\n",
    "carfeatures = pd.read_csv(\"data/features.csv\")\n",
    "list_vars   = [\"acceleration\",\"weight\", \"displacement\"]\n",
    "\n",
    "for variable_name in list_vars:\n",
    "    plt.scatter(x= carfeatures[variable_name], y = carfeatures[\"mpg\"])\n",
    "    plt.ylabel(\"mpg\")\n",
    "    plt.xlabel(variable_name)\n",
    "    plt.show()\n",
    "\n",
    "# Try adding more variables to the analysis!!!\n",
    "    "
   ]
  },
  {
   "attachments": {},
   "cell_type": "markdown",
   "metadata": {},
   "source": [
    "<font size = \"5\" >\n",
    "\n",
    "Plots for multiple variables + Numbering"
   ]
  },
  {
   "cell_type": "code",
   "execution_count": null,
   "metadata": {},
   "outputs": [],
   "source": [
    "carfeatures = pd.read_csv(\"data/features.csv\")\n",
    "list_vars   = [\"acceleration\",\"weight\"]\n",
    "\n",
    "index = 1\n",
    "for variable_name in list_vars:\n",
    "    plt.scatter(x= carfeatures[variable_name], y = carfeatures[\"mpg\"])\n",
    "    plt.ylabel(\"mpg\")\n",
    "    plt.xlabel(variable_name)\n",
    "    plt.title(\"Figure\" + str(index) + \"The relationship between mpg and \" + str(variable_name))\n",
    "    plt.show()\n",
    "    index = index + 1\n",
    "    #index = index + 2 \n",
    "    #results in 1 3 5 7 .."
   ]
  },
  {
   "attachments": {},
   "cell_type": "markdown",
   "metadata": {},
   "source": [
    "<font size = \"5\">\n",
    "\n",
    "Math Operations (Appending)\n",
    "\n",
    "$ y = x^2 + 2x$"
   ]
  },
  {
   "cell_type": "code",
<<<<<<< Updated upstream
   "execution_count": null,
   "metadata": {},
   "outputs": [],
=======
   "execution_count": 8,
   "metadata": {},
   "outputs": [
    {
     "name": "stdout",
     "output_type": "stream",
     "text": [
      "The current value is :1 and the list is [1, 2, 4, 5, 6, 7, 8, 9, 10, 15]\n",
      "The current value is :2 and the list is [1, 2, 4, 5, 6, 7, 8, 9, 10, 15]\n",
      "The current value is :4 and the list is [1, 2, 4, 5, 6, 7, 8, 9, 10, 15]\n",
      "The current value is :5 and the list is [1, 2, 4, 5, 6, 7, 8, 9, 10, 15]\n",
      "The current value is :6 and the list is [1, 2, 4, 5, 6, 7, 8, 9, 10, 15]\n",
      "The current value is :7 and the list is [1, 2, 4, 5, 6, 7, 8, 9, 10, 15]\n",
      "The current value is :8 and the list is [1, 2, 4, 5, 6, 7, 8, 9, 10, 15]\n",
      "The current value is :9 and the list is [1, 2, 4, 5, 6, 7, 8, 9, 10, 15]\n",
      "The current value is :10 and the list is [1, 2, 4, 5, 6, 7, 8, 9, 10, 15]\n",
      "The current value is :15 and the list is [1, 2, 4, 5, 6, 7, 8, 9, 10, 15]\n",
      "[3, 8, 24, 35, 48, 63, 80, 99, 120, 255]\n"
     ]
    },
    {
     "data": {
      "text/plain": [
       "Text(0, 0.5, 'Y-axis')"
      ]
     },
     "execution_count": 8,
     "metadata": {},
     "output_type": "execute_result"
    },
    {
     "data": {
      "image/png": "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",
      "text/plain": [
       "<Figure size 640x480 with 1 Axes>"
      ]
     },
     "metadata": {},
     "output_type": "display_data"
    }
   ],
>>>>>>> Stashed changes
   "source": [
    "# Create a list of x-values list_x = [1,2,4,5, ..., 50]\n",
    "# Start an empty list of y-values with []\n",
    "\n",
    "# n = 50\n",
    "\n",
<<<<<<< Updated upstream
    "#list_x = [1,2,4,5,6,7,8,9,10]\n",
    "#list_y = []\n",
    "# Create an index \n",
    "\n",
    "#list_x.append (15)\n",
    "\n",
    "n = 10\n",
    "list_x = list(range(1,n,1))\n",
    "list_y = []\n",
=======
    "list_x = [1,2,4,5,6,7,8,9,10]\n",
    "list_y = []\n",
    "# Create an index \n",
    "\n",
    "list_x.append (15)\n",
>>>>>>> Stashed changes
    "\n",
    "index = 0\n",
    "for x in list_x:\n",
    "    \n",
    "    y = list_x[index]**2 + 2*list_x[index]\n",
    "    list_y.append(y)\n",
    "    print(\"The current value is :\" + str(x) + \" and the list is \" + str(list_x) )\n",
<<<<<<< Updated upstream
    "    #if(index > 15):\n",
    "     #   break\n",
=======
    "    if(index > 15):\n",
    "        break\n",
>>>>>>> Stashed changes
    "\n",
    "\n",
    "print(list_y)\n",
    "plt.scatter(list_x, list_y)\n",
    "plt.xlabel(\"X-axis\")\n",
    "plt.ylabel(\"Y-axis\")\n"
   ]
  },
  {
   "attachments": {},
   "cell_type": "markdown",
   "metadata": {},
   "source": [
    "<font size = \"5\">\n",
    "\n",
    "Math Operations + Numbering (Filling)\n",
    "\n",
    "\n",
    "$ y = x^2 + 2x$"
   ]
  },
  {
   "cell_type": "code",
   "execution_count": null,
   "metadata": {},
   "outputs": [],
   "source": [
    "# Create a list of x-values list_x = [1,2,4,5, ..., 50]\n",
    "# Create a list of y-values to fill in later.\n",
    "\n",
    "n = 50\n",
    "list_x = list(range(1,n,1))\n",
    "list_y = [None] * len(list_x)\n",
    "\n",
    "# Create an index \n",
    "\n",
    "index = 0\n",
    "for x in list_x:\n",
    "    list_y[index] = list_x[index]**2\n",
    "    index = index + 1\n",
    "\n",
    "print(list_y)\n",
    "plt.scatter(list_x, list_y)\n",
    "plt.xlabel(\"X-axis\")\n",
    "plt.ylabel(\"Y-axis\")\n"
   ]
  },
  {
   "attachments": {},
   "cell_type": "markdown",
   "metadata": {},
   "source": [
    "# <span style=\"color:lightblue\"> Exercises </span>\n"
   ]
  },
  {
   "attachments": {},
   "cell_type": "markdown",
   "metadata": {},
   "source": [
    "<font size = \"5\">\n",
    "\n",
    "Try it yourself!\n",
    "\n",
    "- Create a histogram and number the figures for each of the variables:\n",
    "\n",
    "list_variables = [\"weight\", \"acceleration\",\"mpg\"]\n"
   ]
  },
  {
   "cell_type": "code",
<<<<<<< Updated upstream
   "execution_count": 14,
=======
   "execution_count": null,
>>>>>>> Stashed changes
   "metadata": {},
   "outputs": [
    {
     "data": {
      "image/png": "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",
      "text/plain": [
       "<Figure size 640x480 with 1 Axes>"
      ]
     },
     "metadata": {},
     "output_type": "display_data"
    },
    {
     "data": {
      "image/png": "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",
      "text/plain": [
       "<Figure size 640x480 with 1 Axes>"
      ]
     },
     "metadata": {},
     "output_type": "display_data"
    },
    {
     "data": {
      "image/png": "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",
      "text/plain": [
       "<Figure size 640x480 with 1 Axes>"
      ]
     },
     "metadata": {},
     "output_type": "display_data"
    }
   ],
   "source": [
    "# Write down your own code:\n",
    "\n",
    "list_variables = [\"weight\", \"acceleration\",\"mpg\"]\n",
    "\n",
    "index = 0\n",
    "for var in list_variables:\n",
    "    plt.hist (x= var)\n",
    "    plt.show()\n",
    "\n",
    "# wdi_2000 = pd.read_csv(\"wdi_data/wdi_2000.csv\")\n",
    "# wdi_2000.name = \"WDI 2000\"\n",
    "# wdi_2020 = pd.read_csv(\"wdi_data/wdi_2020.csv\")\n",
    "# wdi_2020.name = \"WDI 2020\"\n",
    "# wdis = [wdi_2000, wdi_2020]\n",
    "\n",
    "# plot the name using plt.title(<variable>.name)\n"
   ]
  },
  {
   "attachments": {},
   "cell_type": "markdown",
   "metadata": {},
   "source": [
    "<font size = \"5\">\n",
    "\n",
    "Try it yourself!\n",
    "- Create a new object called\n",
    "\n",
    "list_datasets = [\"features.csv\",\"worlbank_wdi_2019.csv\"]\n",
    "\n",
    "- Run a for loop over this list:\n",
    "- Read each of the datasets using \"pd.read_csv()\"\n",
    "- Print a table of descriptive statistics for each dataset\n"
   ]
  },
  {
   "cell_type": "code",
   "execution_count": null,
   "metadata": {},
   "outputs": [],
   "source": [
    "# Write down your own code:\n",
    "\n",
    "\n",
    "\n",
    "\n",
    "\n"
   ]
  },
  {
   "attachments": {},
   "cell_type": "markdown",
   "metadata": {},
   "source": [
    "\n",
    "\n",
    "\n"
   ]
  },
  {
   "attachments": {},
   "cell_type": "markdown",
   "metadata": {},
   "source": [
    "# <span style=\"color:lightblue\"> IV. Additional Resources </span>\n",
    "\n",
    "<font size=\"5\"> \n",
    "\n",
    "Check out additional examples at:\n",
    "\n",
    "- https://allendowney.github.io/ElementsOfDataScience/04_loops.html\n",
    "\n",
    "Pro tips:\n",
    "\n",
    "- Write the list and heading of the for loop first\n",
    "- If using numbering, start by a simple example that prints the index\n",
    "- After this, start writing the body of the loop\n",
    "- Always check output\n",
    "- Goood way to check output: Tables and graphs!\n"
   ]
  },
  {
   "attachments": {},
   "cell_type": "markdown",
   "metadata": {},
   "source": [
    "## <span style=\"color:lightblue\"> (Optional) Extra Features of For Loops </span>"
   ]
  },
  {
   "attachments": {},
   "cell_type": "markdown",
   "metadata": {},
   "source": [
    "<font size = \"5\">\n",
    "\n",
    "List Comprehension\n",
    "\n",
    "- A one-line for loop\n",
    "- Easy way to save the output to a list\n",
    "\n",
    "``` python\n",
    "list_name = [ expression for value in list_values]\n",
    "```"
   ]
  },
  {
   "cell_type": "code",
   "execution_count": null,
   "metadata": {},
   "outputs": [],
   "source": [
    "# Example 1: Customized Messages\n",
    "\n",
    "id_list = [\"KIA\", \"Ferrari\", \"Ford\", \"Tesla\"]\n",
    "message_list = [\"Your car model is :\" + id for id in id_list]\n",
    "\n",
    "print(message_list)"
   ]
  },
  {
   "cell_type": "code",
   "execution_count": null,
   "metadata": {},
   "outputs": [],
   "source": [
    "# Example 2: Customized Message + Numering\n",
    "\n",
    "topic_list   = [\"Python\", \"Python\",\"SQL\"]\n",
    "module_list  = [\"One\", \"Two\", \"Three\"]\n",
    "\n",
    "num_topics = len(topic_list)\n",
    "\n",
    "message_list = [\" Module \" + module_list[i] + \" will cover \" + topic_list[i] for i in range(num_topics)]\n",
    "\n"
   ]
  },
  {
   "cell_type": "code",
   "execution_count": null,
   "metadata": {},
   "outputs": [],
   "source": [
    "# Example 2: Math operations\n",
    "x_list = [ 1,2,3,4,5,6,7  ]\n",
    "\n",
    "x_sqr_list = [ x**2 for x in x_list ]"
   ]
  },
  {
   "attachments": {},
   "cell_type": "markdown",
   "metadata": {},
   "source": [
    "<font size = \"5\">\n",
    "\n",
    "Skipping iterations: Continue\n",
    "\n",
    "- Combine it with if/else\n",
    "- Useful for running loop for a subset of elements in list"
   ]
  },
  {
   "cell_type": "code",
   "execution_count": null,
   "metadata": {},
   "outputs": [],
   "source": [
    "# The isinstance(value,int) function checks whether \"value\" is an integer.UserWarning\n",
    "# The code will skip the remainder of any iteration when \"continue' is called.\n",
    "\n",
    "list_mixed = [1,2,\"text_message\",5]\n",
    "\n",
    "for value in list_mixed:\n",
    "    if(not isinstance(value,int)):\n",
    "        continue\n",
    "    print(value)"
   ]
  },
  {
   "attachments": {},
   "cell_type": "markdown",
   "metadata": {},
   "source": [
    "<font size = \"5\">\n",
    "\n",
    "Stopping the loop: Breaking\n"
   ]
  },
  {
   "cell_type": "code",
   "execution_count": null,
   "metadata": {},
   "outputs": [],
   "source": [
    "# In the same example as above, we can use \"break\" to stop the loop altogether\n",
    "\n",
    "list_mixed = [1,2,\"text_message\",5]\n",
    "\n",
    "for value in list_mixed:\n",
    "    if(not isinstance(value,int)):\n",
    "        print(\"Stopped: There is an element in your list that isn't an integer\")\n",
    "        break\n",
    "    print(value)"
   ]
  }
 ],
 "metadata": {
  "kernelspec": {
   "display_name": "Python 3",
   "language": "python",
   "name": "python3"
  },
  "language_info": {
   "codemirror_mode": {
    "name": "ipython",
    "version": 3
   },
   "file_extension": ".py",
   "mimetype": "text/x-python",
   "name": "python",
   "nbconvert_exporter": "python",
   "pygments_lexer": "ipython3",
   "version": "3.11.1"
  },
  "orig_nbformat": 4,
  "vscode": {
   "interpreter": {
    "hash": "aee8b7b246df8f9039afb4144a1f6fd8d2ca17a180786b69acc140d282b71a49"
   }
  }
 },
 "nbformat": 4,
 "nbformat_minor": 2
}
