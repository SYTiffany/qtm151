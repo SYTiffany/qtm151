{
 "cells": [
  {
   "attachments": {},
   "cell_type": "markdown",
   "metadata": {},
   "source": [
    "# <span style=\"color:lightblue\"> QTM 151 - Quiz 1 </span>"
   ]
  },
  {
   "attachments": {},
   "cell_type": "markdown",
   "metadata": {},
   "source": [
    "## Try to submit as an HTML file"
   ]
  },
  {
   "attachments": {},
   "cell_type": "markdown",
   "metadata": {},
   "source": [
    "<font size=\"5\"> \n",
    "\n",
    "Print your name below"
   ]
  },
  {
   "cell_type": "code",
   "execution_count": null,
   "metadata": {},
   "outputs": [],
   "source": [
    "# Write your own code\n",
    "\n",
    "#Tiffany Yang\n"
   ]
  },
  {
   "attachments": {},
   "cell_type": "markdown",
   "metadata": {},
   "source": [
    "<font size = \"5\" >\n",
    "This quiz is open book \n",
    "\n",
    "- You can use the lecture notes\n",
    "- You will get partial credit for attempting the questions\n",
    "- To get full credit, the code should run as intended\n",
    "- You should <span style=\"color:red\"> NOT </span> communicate with other students\n",
    "\n",
    "Print the following message: <br>\n",
    "\n",
    "\"I will abide by Emory's code of conduct\"\n"
   ]
  },
  {
   "cell_type": "code",
   "execution_count": null,
   "metadata": {},
   "outputs": [],
   "source": [
    "# Write your own code\n",
    "\n",
    "#I will abide by Emory's code of conduct\n"
   ]
  },
  {
   "attachments": {},
   "cell_type": "markdown",
   "metadata": {},
   "source": [
    "<font size = \"5\">\n",
    "\n",
    "Import the libraries \"numpy\", \"matplotlib.pytplot\", and \"pandas\""
   ]
  },
  {
   "cell_type": "code",
   "execution_count": 1,
   "metadata": {},
   "outputs": [],
   "source": [
    "# Write your own code\n",
    "\n",
    "import numpy as np\n",
    "import matplotlib.pyplot as plt\n",
    "import pandas as pd\n"
   ]
  },
  {
   "attachments": {},
   "cell_type": "markdown",
   "metadata": {},
   "source": [
    "## <span style=\"color:lightblue\"> Part I: Visualizing random variables </span>\n",
    "\n"
   ]
  },
  {
   "attachments": {},
   "cell_type": "markdown",
   "metadata": {},
   "source": [
    "<font size = \"5\">\n",
    "\n",
    "(a) Create two random variables ...\n",
    "\n",
    "\n",
    "- Call them \"vec_x\" and \"vec_z\"\n",
    "- Generate \"vec_x\" from a uniform distribution with (low = 10, high = 20, size = 1000)\n",
    "- Generate \"vec_z\" from a chi-square distribution with (df = 1, size = 1000)\n",
    "- Plot a histogram of each variable\n",
    "    - Label the axes and title\n",
    "    - Each graph should have a different title\n",
    " \n",
    "To get full points, plot the histograms on a grid (See Lecture 6)"
   ]
  },
  {
   "attachments": {},
   "cell_type": "markdown",
   "metadata": {},
   "source": [
    "a) Did not plot on a grid list_subfig[0].grid() (-0.1pts) c) Missing the dataset for 2020 (-0.1pts) d) you were suppose to do: for year in datasetyears: if year >= 2000: print(\"This dataset contains information on or after 2000\") else: print(\"This dataset contains information before 2000\") (-0.2pts) f) When you add the two variables you should: percent_ages0to64 = percent_ages0to14 + percent_ages15to64 (-0.2pts) You also forgot to raise the index by: index += 1 (-0.2pts)"
   ]
  },
  {
   "cell_type": "code",
   "execution_count": 20,
   "metadata": {},
   "outputs": [
    {
     "data": {
      "text/plain": [
       "Text(291.3585858585858, 0.5, 'Frequency')"
      ]
     },
     "execution_count": 20,
     "metadata": {},
     "output_type": "execute_result"
    },
    {
     "data": {
      "image/png": "[encoded data removed]",
      "text/plain": [
       "<Figure size 600x300 with 2 Axes>"
      ]
     },
     "metadata": {},
     "output_type": "display_data"
    }
   ],
   "source": [
    "# Write your own code\n",
    "\n",
    "vec_x = np.random.uniform(low = 10, high = 20, size = 1000)\n",
    "vec_z = np.random.chisquare(df = 1, size = 1000)\n",
    "\n",
    "fig, list_subfig = plt.subplots(1,2, figsize = (6,3))\n",
    "\n",
    "plt.tight_layout()\n",
    "\n",
    "list_subfig[0].hist(x = vec_x)\n",
    "list_subfig[0].set_title(\"Uniform Distribution\")\n",
    "list_subfig[0].set_xlabel(\"Value\")\n",
    "list_subfig[0].set_ylabel(\"Frequency\")\n",
    "\n",
    "\n",
    "list_subfig[1].hist(x = vec_z)\n",
    "list_subfig[1].set_title(\"Chi Square\")\n",
    "list_subfig[1].set_xlabel(\"Value\")\n",
    "list_subfig[1].set_ylabel(\"Frequency\")\n",
    "\n"
   ]
  },
  {
   "attachments": {},
   "cell_type": "markdown",
   "metadata": {},
   "source": [
    "<font size = \"5\">\n",
    "\n",
    "(b) Create a new variable \"vec_y\" by the formula\n",
    "\n",
    "$ y = e^x + 2x + 5$\n",
    "\n",
    "- Use element-by-element vector operations (no loops)\n",
    "- Produce a scatter plot of \"vec_y\" against \"vec_x\"\n",
    "- Label the axes and the title\n",
    "- Change the color to \"red\", \"green\" or \"purple\" (you choose)\n",
    "\n",
    "Hint: You can use the numpy \"exp()\" function with vector arrays"
   ]
  },
  {
   "cell_type": "code",
   "execution_count": null,
   "metadata": {},
   "outputs": [],
   "source": [
    "# Write your own code\n",
    "\n",
    "vec_y = np.exp(vec_x) + vec_x*2 + 5\n",
    "\n",
    "\n",
    "plt.scatter(x = vec_x, y = vec_y, color = \"pink\")\n",
    "plt.title(\"relationship between x and y\")\n",
    "plt.xlabel(\"vec_x\")\n",
    "plt.ylabel(\"vec_y\")\n",
    "\n"
   ]
  },
  {
   "attachments": {},
   "cell_type": "markdown",
   "metadata": {},
   "source": [
    "## <span style=\"color:lightblue\"> Part II: Operations over multiple datasets </span>\n",
    "\n"
   ]
  },
  {
   "attachments": {},
   "cell_type": "markdown",
   "metadata": {},
   "source": [
    "<font size = \"5\">\n",
    "\n",
    "(c) Create two lists with ...\n",
    "\n",
    "- The names of the datasets\n",
    "- The years of the datasets (type manually based on the dataset names)\n",
    "\n",
    "To answer this question, you need to browse the Quiz folder\n",
    "\n",
    "You will find three datasets on the distribution of ages worldwide"
   ]
  },
  {
   "cell_type": "code",
   "execution_count": null,
   "metadata": {},
   "outputs": [],
   "source": [
    "# Write your own code\n",
    "\n",
    "datasetnames = [\"data_quiz/wdi_ages1980.csv\", \"data_quiz/wdi_ages2000.csv\"]\n",
    "datasetyears = [\"1980\", \"2000\"]\n"
   ]
  },
  {
   "attachments": {},
   "cell_type": "markdown",
   "metadata": {},
   "source": [
    "<font size = \"5\">\n",
    "\n",
    "(d) Create a loop that ...\n",
    "\n",
    "\n",
    "- Goes over the list of years\n",
    "- If the year $\\ge$ 2000, print the message\n",
    "\n",
    "$\\qquad$ \"This dataset contains information on or after 2000.\n",
    "\n",
    "- If the year $<$ 2000, print the message\n",
    "\n",
    "$\\qquad$ \"This dataset contains information before 2000\""
   ]
  },
  {
   "cell_type": "code",
   "execution_count": 22,
   "metadata": {},
   "outputs": [
    {
     "ename": "ValueError",
     "evalue": "The truth value of a Series is ambiguous. Use a.empty, a.bool(), a.item(), a.any() or a.all().",
     "output_type": "error",
     "traceback": [
      "\u001b[0;31m---------------------------------------------------------------------------\u001b[0m",
      "\u001b[0;31mValueError\u001b[0m                                Traceback (most recent call last)",
      "Cell \u001b[0;32mIn[22], line 11\u001b[0m\n\u001b[1;32m      8\u001b[0m     year \u001b[39m=\u001b[39m data[\u001b[39m\"\u001b[39m\u001b[39myear\u001b[39m\u001b[39m\"\u001b[39m]\n\u001b[1;32m     10\u001b[0m     \u001b[39m#for y in year:\u001b[39;00m\n\u001b[0;32m---> 11\u001b[0m \u001b[39mif\u001b[39;00m year \u001b[39m>\u001b[39m\u001b[39m=\u001b[39m \u001b[39m2000\u001b[39m:\n\u001b[1;32m     12\u001b[0m                 \u001b[39mprint\u001b[39m (\u001b[39m\"\u001b[39m\u001b[39mThis dataset contains information on or after 2000\u001b[39m\u001b[39m\"\u001b[39m)\n\u001b[1;32m     13\u001b[0m \u001b[39melse\u001b[39;00m:\n",
      "File \u001b[0;32m/Library/Frameworks/Python.framework/Versions/3.11/lib/python3.11/site-packages/pandas/core/generic.py:1527\u001b[0m, in \u001b[0;36mNDFrame.__nonzero__\u001b[0;34m(self)\u001b[0m\n\u001b[1;32m   1525\u001b[0m \u001b[39m@final\u001b[39m\n\u001b[1;32m   1526\u001b[0m \u001b[39mdef\u001b[39;00m \u001b[39m__nonzero__\u001b[39m(\u001b[39mself\u001b[39m) \u001b[39m-\u001b[39m\u001b[39m>\u001b[39m NoReturn:\n\u001b[0;32m-> 1527\u001b[0m     \u001b[39mraise\u001b[39;00m \u001b[39mValueError\u001b[39;00m(\n\u001b[1;32m   1528\u001b[0m         \u001b[39mf\u001b[39m\u001b[39m\"\u001b[39m\u001b[39mThe truth value of a \u001b[39m\u001b[39m{\u001b[39;00m\u001b[39mtype\u001b[39m(\u001b[39mself\u001b[39m)\u001b[39m.\u001b[39m\u001b[39m__name__\u001b[39m\u001b[39m}\u001b[39;00m\u001b[39m is ambiguous. \u001b[39m\u001b[39m\"\u001b[39m\n\u001b[1;32m   1529\u001b[0m         \u001b[39m\"\u001b[39m\u001b[39mUse a.empty, a.bool(), a.item(), a.any() or a.all().\u001b[39m\u001b[39m\"\u001b[39m\n\u001b[1;32m   1530\u001b[0m     )\n",
      "\u001b[0;31mValueError\u001b[0m: The truth value of a Series is ambiguous. Use a.empty, a.bool(), a.item(), a.any() or a.all()."
     ]
    }
   ],
   "source": [
    "# Write your own code\n",
    "\n",
    "index = 0\n",
    "datasetnames = [\"data_quiz/wdi_ages1980.csv\", \"data_quiz/wdi_ages2000.csv\"]\n",
    "\n",
    "for data in datasetnames:\n",
    "    data = pd.read_csv(datasetnames[index])\n",
    "    year = data[\"year\"]\n",
    "\n",
    "    for y in year:\n",
    "        if y >= 2000:\n",
    "                print (\"This dataset contains information on or after 2000\")\n",
    "        else:\n",
    "                print (\"This dataset contains information before 2000\")\n",
    "\n",
    "index = index + 1\n"
   ]
  },
  {
   "attachments": {},
   "cell_type": "markdown",
   "metadata": {},
   "source": [
    "<font size = \"5\">\n",
    "\n",
    "(e) Your goal is to convert all the \".csv\" data files to \".xlsx\" (Excel) files\n",
    "\n",
    "<font size = \"3\">\n",
    "\n",
    "- Create a list with the \".csv\" dataset names (including their relative subfolder \"data_quiz/)\n",
    "- Create a new list called \"list_newnames\", with each element ending in \".xlsx\" (including the subfolder \"data_excel/\")\n",
    "- Start an index\n",
    "\n",
    "$\\qquad$ index = 0\n",
    "\n",
    "- Initiate a for-loop over the list of dataset names. Inside the loop:\n",
    "    - Read the \".csv\" dataset and store it in an object called \"dataset\"\n",
    "    - Create a variable called \"filename\" from the \"list_newnames\", extracting the element \"index\"\n",
    "    - Store \"dataset\" as an excel file with name \"filename\".\n",
    "\n",
    "    $\\qquad$ index = index + 1\n",
    "\n",
    "Note: Check that you did it correctly by trying to open your new excel files outside \"VSCode\""
   ]
  },
  {
   "cell_type": "code",
   "execution_count": null,
   "metadata": {},
   "outputs": [],
   "source": [
    "# Write your own code\n",
    "\n",
    "csvnames = [\"data_quiz/wdi_ages1980.csv\", \"data_quiz/wdi_ages2000.csv\", \"data_quiz/wdi_ages2020.csv\"]\n",
    "\n",
    "list_newnames = [\"data_excel/wdi_ages1980.xlsx\", \"data_excel/wdi_ages2000.xlsx\", \"data_excel/wdi_ages2020.xlsx\"]\n",
    "\n",
    "index = 0 \n",
    "\n",
    "for dataset in csvnames:\n",
    "    dataset = pd.read_csv(csvnames[index])\n",
    "    filename = (list_newnames[index])\n",
    "\n",
    "    dataset.to_excel(filename)\n",
    "\n",
    "    index = index + 1"
   ]
  },
  {
   "attachments": {},
   "cell_type": "markdown",
   "metadata": {},
   "source": [
    "<font size = \"5\">\n",
    "\n",
    "(f) Your goal is to open each dataset, create a new variable, then plot\n",
    "\n",
    "\n",
    "<font size = \"3\">\n",
    "\n",
    "- Create a list with the \".csv\" dataset names (including their relative subfolder \"data_quiz/)\n",
    "- Start an index\n",
    "\n",
    "$\\qquad$ index = 0\n",
    "\n",
    "- Initiate a for loop over the list of dataset names. Inside the loop:\n",
    "    - Read the dataset and store it in an object called \"dataset\"\n",
    "    - Create two new variables as\n",
    "    \n",
    "    $\\qquad$ percent_ages0to14 = dataset[\"percent_ages0to14\"] <br>\n",
    "    $\\qquad$ percent_ages15to64 = dataset[\"percent_ages15to64\"] \n",
    "\n",
    "    - Calculate the percent of the population between ages 0 and 64 by adding the two previous variables\n",
    "    - Plot a histogram and label the axes\n",
    "    - Use plt.show() to display the plot\n",
    "    - Write\n",
    "\n",
    "    $\\qquad$ index = index + 1\n",
    "\n",
    "\n",
    "This should produce a histogram for each dataset"
   ]
  },
  {
   "cell_type": "code",
   "execution_count": 24,
   "metadata": {},
   "outputs": [
    {
     "data": {
      "image/png": "[encoded data removed]",
      "text/plain": [
       "<Figure size 640x480 with 1 Axes>"
      ]
     },
     "metadata": {},
     "output_type": "display_data"
    },
    {
     "data": {
      "image/png": "[encoded data removed]",
      "text/plain": [
       "<Figure size 640x480 with 1 Axes>"
      ]
     },
     "metadata": {},
     "output_type": "display_data"
    },
    {
     "data": {
      "image/png": "[encoded data removed]",
      "text/plain": [
       "<Figure size 640x480 with 1 Axes>"
      ]
     },
     "metadata": {},
     "output_type": "display_data"
    }
   ],
   "source": [
    "# Write your own code\n",
    "\n",
    "csvnames = [\"data_quiz/wdi_ages1980.csv\", \"data_quiz/wdi_ages2000.csv\", \"data_quiz/wdi_ages2020.csv\"]\n",
    "\n",
    "index = 0\n",
    "\n",
    "for dataset in csvnames:\n",
    "    dataset = pd.read_csv(csvnames[index])\n",
    "\n",
    "    percent_ages0to14 = dataset[\"percent_ages0to14\"]\n",
    "    percent_ages15to64 = dataset[\"percent_ages15to64\"]\n",
    "\n",
    "    percent_ages0to64 = [percent_ages0to14 + percent_ages15to64]\n",
    "\n",
    "    plt.hist(percent_ages0to64)\n",
    "    plt.title(\"percent_age\")\n",
    "    plt.xlabel(\"age\")\n",
    "    plt.ylabel(\"population\")\n",
    "    plt.show()\n"
   ]
  }
 ],
 "metadata": {
  "kernelspec": {
   "display_name": "Python 3",
   "language": "python",
   "name": "python3"
  },
  "language_info": {
   "codemirror_mode": {
    "name": "ipython",
    "version": 3
   },
   "file_extension": ".py",
   "mimetype": "text/x-python",
   "name": "python",
   "nbconvert_exporter": "python",
   "pygments_lexer": "ipython3",
   "version": "3.11.1"
  },
  "orig_nbformat": 4,
  "vscode": {
   "interpreter": {
    "hash": "aee8b7b246df8f9039afb4144a1f6fd8d2ca17a180786b69acc140d282b71a49"
   }
  }
 },
 "nbformat": 4,
 "nbformat_minor": 2
}
