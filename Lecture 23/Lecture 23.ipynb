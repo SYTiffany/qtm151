{
 "cells": [
  {
   "attachments": {},
   "cell_type": "markdown",
   "metadata": {},
   "source": [
    "# <span style=\"color:lightblue\"> Lecture 23 - Practicing Time and Plots  </span>\n",
    "\n",
    "<font size = \"5\">\n",
    "\n",
    "In  this lecture we will practice working with time in Python\n",
    "\n",
    "- There will be a quiz on this lecture\n"
   ]
  },
  {
   "attachments": {},
   "cell_type": "markdown",
   "metadata": {},
   "source": [
    "# <span style=\"color:lightblue\"> I. Review of time commands </span>\n",
    "\n",
    "<font size = \"5\">\n",
    "\n",
    "Line plot: $\\qquad \\qquad \\qquad \\quad \\ $ ``` plt.plot() ```\n",
    "\n",
    "Parse string column to date: $\\ $``` pd.to_datetime(data_column,format)```\n",
    "\n",
    "Date to string:  $\\qquad \\qquad \\quad \\ $ ```.dt.strftime(format)```\n",
    "\n",
    "Group by time period:\n",
    "$\\qquad \\ \\ $ ``` pd.Grouper(key='date', freq='m')```\n",
    "\n",
    "Include group as column: $\\quad$ ```.reset_index()```\n",
    "\n",
    "Difference between periods: $\\ $``` .diff() ```\n",
    "\n",
    "Lag a periods: $\\qquad \\qquad \\quad \\ $ ``` .shift(1) ```\n",
    "\n",
    "Between two periods (bool): $\\ $ ```.between(\"date1\",\"date2\")```\n",
    "\n",
    "Convert wide to long: $\\qquad \\quad $ ``` pd.melt(...) ```\n",
    "\n",
    "Convert long to wide: $\\qquad \\quad $ ``` pd.pivot(...) ```"
   ]
  },
  {
   "attachments": {},
   "cell_type": "markdown",
   "metadata": {},
   "source": [
    "## <span style=\"color:lightblue\"> II. Quiz Structure </span>\n",
    "\n",
    "<font size = \"5\">\n",
    "\n",
    "The day of the quiz I will ...\n",
    "- Provide a dataset with information\n",
    "- Give more specific instructions.\n",
    "- Below, you will see the type of questions that will be asked.\n",
    "- The idea is for you to apply known concepts to new data\n",
    "- You have 50 minutes to complete the assignment\n",
    "\n",
    "Questions\n",
    "\n",
    "(exact wording may change in quiz, but exercise will be very similar)\n",
    "\n",
    "The quiz will use a time series dataset\n"
   ]
  },
  {
   "cell_type": "code",
   "execution_count": null,
   "metadata": {},
   "outputs": [],
   "source": [
    "import pandas as pd\n",
    "import matplotlib.pyplot as plt"
   ]
  },
  {
   "attachments": {},
   "cell_type": "markdown",
   "metadata": {},
   "source": [
    "\n",
    "<font size = \"5\">\n",
    "\n",
    "(a) Import a dataset, parse date column using wildcards <br>\n",
    "$\\quad$ (wildcard format see Lecture 21), and sort dataset\n",
    "\n",
    "(b) Line plots from multiple columns with a legend\n",
    "    (Lecture 22)\n",
    "\n",
    "(c) Compute growth rates for a time series\n",
    "    (Lecture 22)\n",
    "\n",
    "(d) Flag a subset of the data and produce a shaded plot <br>\n",
    "$\\quad$ as in Lecture 22\n",
    "\n",
    "(e) Compute aggregate dataset by time period\n",
    "    (Lecture 22)\n",
    "\n",
    "(f) Convert a dataset to long format\n",
    "    (Lecture 22)\n"
   ]
  },
  {
   "cell_type": "code",
   "execution_count": null,
   "metadata": {},
   "outputs": [],
   "source": [
    "# (a)\n",
    "\n",
    "financial         = pd.read_csv(\"data_raw/financial.csv\")\n",
    "financial[\"date\"] = pd.to_datetime(financial[\"date_str\"], format = \"%Y-%m-%d\")\n",
    "\n",
    "financial         = financial.sort_values(\"date\",ascending = True)"
   ]
  },
  {
   "cell_type": "code",
   "execution_count": null,
   "metadata": {},
   "outputs": [],
   "source": [
    "# (b)\n",
    "\n",
    "financial[[\"date\",\"sp500\",\"djia\"]].set_index(\"date\").plot()\n",
    "plt.xlabel(\"Time\")\n",
    "plt.ylabel(\"Value of Index Funds\")\n",
    "plt.legend([\"S&P 500\",\"Dow Jones\"])"
   ]
  },
  {
   "cell_type": "code",
   "execution_count": null,
   "metadata": {},
   "outputs": [],
   "source": [
    "# (c)\n",
    "\n",
    "financial[\"diff_sp500\"]   = financial[\"sp500\"].diff()\n",
    "\n",
    "financial[\"lag_sp500\"]    = financial[\"sp500\"].shift(1)\n",
    "\n",
    "financial[\"growth_sp500\"] = financial[\"diff_sp500\"]* 100/financial[\"lag_sp500\"]\n",
    "\n",
    "display(financial[[\"sp500\", \"lag_sp500\",\"diff_sp500\", \"growth_sp500\"]])\n"
   ]
  },
  {
   "cell_type": "code",
   "execution_count": null,
   "metadata": {},
   "outputs": [],
   "source": [
    "# (d)\n",
    "\n",
    "financial[\"bool_period\"]  = financial[\"date\"].between(\"2020-03-01\",\"2020-05-01\")\n",
    "# or \n",
    "#financial[\"bool_djia\"]  = (financial[\"growth_djia\"] > 4) | (financial[\"growth_djia\"] < -4)\n",
    "\n",
    "\n",
    "plt.plot(\"date\", \"growth_sp500\", data = financial)\n",
    "plt.xlabel(\"Time\")\n",
    "plt.ylabel(\"Daily percentage change \")\n",
    "plt.title(\"The S&P 500 during the start of COVID\")\n",
    "\n",
    "vec_y = financial[\"growth_sp500\"]\n",
    "plt.fill_between(x= financial[\"date\"],\n",
    "                 y1 = vec_y.min(),\n",
    "                 y2 = vec_y.max(),\n",
    "                 where = financial[\"bool_period\"],\n",
    "                 alpha = 0.2,color = \"red\")\n",
    "plt.show()"
   ]
  },
  {
   "cell_type": "code",
   "execution_count": null,
   "metadata": {},
   "outputs": [],
   "source": [
    "# (e)\n",
    "\n",
    "subset_before  = financial.query('date >= \"2019-01-01\" ')\n",
    "subset_after   = financial.query('date <= \"2020-01-01\" ')\n",
    "subset_between = financial.query('date.between(\"2020-03-01\",\"2020-05-01\")')"
   ]
  },
  {
   "cell_type": "code",
   "execution_count": null,
   "metadata": {},
   "outputs": [],
   "source": [
    "# (f)\n",
    "\n",
    "financial_long = pd.melt(financial,\n",
    "                         var_name   = \"portfolio_type\",\n",
    "                         value_name = \"portfolio_value\",\n",
    "                         id_vars = 'date',\n",
    "                         value_vars =['sp500','djia'])"
   ]
  }
 ],
 "metadata": {
  "kernelspec": {
   "display_name": "base",
   "language": "python",
   "name": "python3"
  },
  "language_info": {
   "codemirror_mode": {
    "name": "ipython",
    "version": 3
   },
   "file_extension": ".py",
   "mimetype": "text/x-python",
   "name": "python",
   "nbconvert_exporter": "python",
   "pygments_lexer": "ipython3",
   "version": "3.11.1"
  },
  "orig_nbformat": 4
 },
 "nbformat": 4,
 "nbformat_minor": 2
}
