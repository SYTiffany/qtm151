{
 "cells": [
  {
   "attachments": {},
   "cell_type": "markdown",
   "metadata": {},
   "source": [
    "# Assignment 4"
   ]
  },
  {
   "attachments": {},
   "cell_type": "markdown",
   "metadata": {},
   "source": [
    "## Try to submit as an HTML file"
   ]
  },
  {
   "attachments": {},
   "cell_type": "markdown",
   "metadata": {},
   "source": [
    "<font size = \"5\">\n",
    "Print your name below"
   ]
  },
  {
   "cell_type": "code",
   "execution_count": null,
   "metadata": {},
   "outputs": [],
   "source": [
    "#Tiffany Yang"
   ]
  },
  {
   "attachments": {},
   "cell_type": "markdown",
   "metadata": {},
   "source": [
    "<font size = \"5\">\n",
    "\n",
    "Import the numpy, matplotlib, and pandas packages"
   ]
  },
  {
   "cell_type": "code",
   "execution_count": null,
   "metadata": {},
   "outputs": [],
   "source": [
    "# Write down your answer here:\n",
    "\n",
    "import numpy as np\n",
    "import matplotlib.pyplot as plt\n",
    "import pandas as pd\n"
   ]
  },
  {
   "attachments": {},
   "cell_type": "markdown",
   "metadata": {},
   "source": [
    "<font size = \"5\">\n",
    "\n",
    "(a) Create a sequence \n",
    "\n",
    "- Create a value $n = 50$\n",
    "- Create a list with the values $0,1,\\ldots, n$\n",
    "- Count the length of the list"
   ]
  },
  {
   "cell_type": "code",
   "execution_count": null,
   "metadata": {},
   "outputs": [],
   "source": [
    "# Write your answer here\n",
    "\n",
    "n = 50\n",
<<<<<<< Updated upstream
    "list_x = list(range(0,n,1))\n",
    "\n",
    "print (len(list_x))\n"
=======
    "list = range (0,n+1)\n",
    "\n",
    "print (len(list))\n"
>>>>>>> Stashed changes
   ]
  },
  {
   "attachments": {},
   "cell_type": "markdown",
   "metadata": {},
   "source": [
    "<font size = \"5\">\n",
    "\n",
    "(b) Counting True/False statements in a list\n",
    "\n",
    "- Create\n",
    "list_ages = [18, 20, 13, 15, 20, 35, 8, 7]\n",
    "- Create an empty list \"list_eligible_voter\"\n",
    "- Use a for-loop without numbering\n",
    "    - Determine whether the age is $\\ge 18$\n",
    "    - Store the True/False result in \"list_eligible_voter\"\n",
    "- Use \"np.sum()\" to count how many voters are eligible\n",
    "\n",
    "Hint: Use the \"append\" function."
   ]
  },
  {
   "cell_type": "code",
<<<<<<< Updated upstream
   "execution_count": 26,
   "metadata": {},
   "outputs": [
    {
     "name": "stdout",
     "output_type": "stream",
     "text": [
      "4\n"
     ]
    }
   ],
=======
   "execution_count": null,
   "metadata": {},
   "outputs": [],
>>>>>>> Stashed changes
   "source": [
    "# Write your answer here\n",
    "\n",
    "list_ages = [18, 20, 13, 15, 20, 35, 8, 7]\n",
    "list_eligible_voter = []\n",
    "\n",
<<<<<<< Updated upstream
    "#index = 0\n",
    "for age in list_ages:\n",
    "    if age >= 18:\n",
    "        list_eligible_voter.append(age)\n",
    "else:\n",
    "    print (len(list_eligible_voter))\n",
    "    #index = index + 1"
=======
    "for age in list_ages:\n",
    "    if age >= 18:\n",
    "        list_eligible_voter.append(age)\n",
    "    print (len(list_eligible_voter))\n"
>>>>>>> Stashed changes
   ]
  },
  {
   "attachments": {},
   "cell_type": "markdown",
   "metadata": {},
   "source": [
    "<font size = \"5\">\n",
    "\n",
    "(c) Graphs from multiple datasets\n",
    "\n",
    "- Create a list with the two \"WDI\" datasets for 2000, and 2020\n",
    "- Run a for-loop over each dataset \n",
    "    - Compute a histogram of \"prop_urbanpopulation\" for each year\n",
    "    - Label the title with the name of the dataset"
   ]
  },
  {
   "cell_type": "code",
<<<<<<< Updated upstream
   "execution_count": 27,
   "metadata": {},
   "outputs": [
    {
     "data": {
      "image/png": "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",
      "text/plain": [
       "<Figure size 640x480 with 1 Axes>"
      ]
     },
     "metadata": {},
     "output_type": "display_data"
    },
    {
     "data": {
      "image/png": "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",
      "text/plain": [
       "<Figure size 640x480 with 1 Axes>"
      ]
     },
     "metadata": {},
     "output_type": "display_data"
    }
   ],
=======
   "execution_count": null,
   "metadata": {},
   "outputs": [],
>>>>>>> Stashed changes
   "source": [
    "# Note \"prop_urbanpopulation\" is the percentage of the urban population over\n",
    "# the total population\n",
    "\n",
    "# Hint: Before you write the loop, test your code out by opening an individual dataset\n",
    "# Once you're sure the code works and you're familiar with the data, run the loop\n",
    "\n",
    "# Write your answer here\n",
    "\n",
<<<<<<< Updated upstream
    "wdi_datasetnames = [\"wdi_data/wdi_2000.csv\", \"wdi_data/wdi_2020.csv\"]\n",
    "wdi_titile = [\"WDI 2000\", \"WDI 2020\"]\n",
    "wdi_color = [\"orange\", \"lightgreen\"]\n",
    "\n",
    "index = 0\n",
    "for dataset in wdi_datasetnames:\n",
    "    dataset = pd.read_csv(wdi_datasetnames[index])\n",
    "    plt.hist(x = dataset[\"prop_urbanpopulation\"], color = wdi_color[index])\n",
    "    plt.title(wdi_titile[index])\n",
    "    plt.show()\n",
    "\n",
    "    index = index + 1\n"
   ]
  },
  {
   "cell_type": "code",
   "execution_count": null,
   "metadata": {},
   "outputs": [],
   "source": [
    "\n",
    "# wdi_2000 = pd.read_csv(\"wdi_data/wdi_2000.csv\")\n",
    "# #wdi_2000.name = \"WDI 2000\"\n",
    "# wdi_2020 = pd.read_csv(\"wdi_data/wdi_2020.csv\")\n",
    "# #wdi_2020.name = \"WDI 2020\"\n",
    "# wdis = [wdi_2000, wdi_2020]\n",
    "\n",
    "# wdis_details = [wdi_2000[\"prop_urbanpopulation\"], wdi_2020[\"prop_urbanpopulation\"]]\n",
    "# #print (wdis_details)\n",
    "\n",
    "# wdi_title = [\"Year 2000\",\"Year 2020\"]\n",
    "# wdi_colors = [\"red\",\"purple\"]\n",
    "# index = 0\n",
    "# for var in wdis_details:\n",
    "#     plt.hist(x = var,color = wdi_colors[index]) \n",
    "#     plt.title(wdi_title[index])\n",
    "#     plt.show()\n",
    "#     index = index + 1\n",
    "\n",
    "    #???\n",
    "    # title with tha name of the dataset\n",
    "    # ???"
=======
    "\n",
    "\n",
    "\n",
    "\n",
    "    "
>>>>>>> Stashed changes
   ]
  },
  {
   "attachments": {},
   "cell_type": "markdown",
   "metadata": {},
   "source": [
    "<font size = \"5\">\n",
    "\n",
    "For questions (d) and (e), use the following table:\n",
    "\n",
    "<img src=\"figures/grading_scale.png\" alt=\"drawing\" width=\"700\"/>\n",
    "\n",
    "(d) Loops with multiple lists\n",
    "\n",
    "<font size =\"3\">\n",
    "- Create three lists\n",
    "\n",
    "list_lower = [93, 87, 83, 80, 75, 70, 65, 60, 55, 0]\n",
    "\n",
    "list_upper = [100,92, 86, 82, 79, 74, 69, 64, 59, 54]\n",
    "\n",
    "list_letters = [\"A\",\"A-\",\"B+\",\"B\",\"B-\",\"C+\",\"C\",\"C-\",\"D\",\"F\"]\n",
    "\n",
    "- Create a for loop that prints the message:\n",
    "\n",
    "\"If a students gets a grade between .... and ..., their letter grade is ...\"\n",
    "\n"
   ]
  },
  {
   "cell_type": "code",
   "execution_count": null,
   "metadata": {},
   "outputs": [],
   "source": [
    "# Hint: Use a for-loop with numbering \n",
    "# Start the index at zero\n",
    "# In the body of the loop, extract the elements in each list by the index position\n",
    "\n",
    "# Write your answer here\n",
    "\n",
    "list_lower = [93, 87, 83, 80, 75, 70, 65, 60, 55, 0]\n",
    "list_upper = [100,92, 86, 82, 79, 74, 69, 64, 59, 54]\n",
    "list_letters = [\"A\",\"A-\",\"B+\",\"B\",\"B-\",\"C+\",\"C\",\"C-\",\"D\",\"F\"]\n",
    "\n",
    "index = 0\n",
    "for id in list_letters:\n",
    "    print(\"If a student ges a grade between \" + str(list_lower[index]) + \n",
    "    \" and \" + str(list_upper[index]) + \", their letter grade is \" + id)\n",
    "    index = index +1\n"
   ]
  },
  {
   "attachments": {},
   "cell_type": "markdown",
   "metadata": {},
   "source": [
    "<font size = \"5\" >\n",
    "\n",
    "(e) Classification with double loops\n",
    "\n",
    "<font size =\"3\">\n",
    "\n",
    "- Suppose that 5 students get the following grades:\n",
    "\n",
    "list_studentgrades = [80, 92, 60, 42, 97]\n",
    "\n",
    "- Print the following message:\n",
    "\n",
    "\"The student got a numeric grade of .... and their letter grade was ...\"\n"
   ]
  },
  {
   "cell_type": "code",
<<<<<<< Updated upstream
   "execution_count": 25,
=======
   "execution_count": 48,
>>>>>>> Stashed changes
   "metadata": {},
   "outputs": [
    {
     "name": "stdout",
     "output_type": "stream",
     "text": [
<<<<<<< Updated upstream
      "The student got a numeric grade of 80 and their letter grade was B-\n",
      "The student got a numeric grade of 92 and their letter grade was A-\n",
      "The student got a numeric grade of 60 and their letter grade was D\n",
      "The student got a numeric grade of 42 and their letter grade was F\n",
      "The student got a numeric grade of 97 and their letter grade was A\n"
=======
      "The student got a numeric grade of 80 and their letter grade was A\n",
      "The student got a numeric grade of 92 and their letter grade was A-\n",
      "The student got a numeric grade of 60 and their letter grade was B+\n",
      "The student got a numeric grade of 42 and their letter grade was B\n",
      "The student got a numeric grade of 80 and their letter grade was A\n",
      "The student got a numeric grade of 80 and their letter grade was A\n",
      "The student got a numeric grade of 92 and their letter grade was A-\n",
      "The student got a numeric grade of 60 and their letter grade was B+\n",
      "The student got a numeric grade of 42 and their letter grade was B\n",
      "The student got a numeric grade of 97 and their letter grade was B-\n"
     ]
    },
    {
     "ename": "IndexError",
     "evalue": "list index out of range",
     "output_type": "error",
     "traceback": [
      "\u001b[0;31m---------------------------------------------------------------------------\u001b[0m",
      "\u001b[0;31mIndexError\u001b[0m                                Traceback (most recent call last)",
      "Cell \u001b[0;32mIn[48], line 19\u001b[0m\n\u001b[1;32m     17\u001b[0m \u001b[39mfor\u001b[39;00m letter \u001b[39min\u001b[39;00m list_letters:\n\u001b[1;32m     18\u001b[0m     \u001b[39mif\u001b[39;00m list_upper[index] \u001b[39m>\u001b[39m\u001b[39m=\u001b[39m studentgrade \u001b[39m<\u001b[39m\u001b[39m=\u001b[39m list_lower[index]:\n\u001b[0;32m---> 19\u001b[0m         \u001b[39mprint\u001b[39m(\u001b[39m\"\u001b[39m\u001b[39mThe student got a numeric grade of \u001b[39m\u001b[39m\"\u001b[39m \u001b[39m+\u001b[39m \u001b[39mstr\u001b[39m(list_studentgrades[index]) \u001b[39m+\u001b[39m \n\u001b[1;32m     20\u001b[0m         \u001b[39m\"\u001b[39m\u001b[39m and their letter grade was \u001b[39m\u001b[39m\"\u001b[39m \u001b[39m+\u001b[39m letter)\n\u001b[1;32m     21\u001b[0m     index \u001b[39m=\u001b[39m index \u001b[39m+\u001b[39m \u001b[39m1\u001b[39m\n",
      "\u001b[0;31mIndexError\u001b[0m: list index out of range"
>>>>>>> Stashed changes
     ]
    }
   ],
   "source": [
    "#(a) Hint: Use a double for loop structure:\n",
    "#---- for studentgrade in list_studentgrades:\n",
    "#----     index = 0\n",
    "#----     for letter in list_letters:\n",
    "#----          Body\n",
    "#----          index = index + 1\n",
    "\n",
    "# (b) Inside the body, use an if/else statement to print the correct letter grade.\n",
    "# You can make your code more concise by doing similar steps to question (d).\n",
    "\n",
    "# Write your answer here:\n",
    "\n",
    "list_studentgrades = [80, 92, 60, 42, 97]\n",
    "\n",
    "for studentgrade in list_studentgrades:\n",
    "    index = 0\n",
<<<<<<< Updated upstream
    "    for lower in list_lower:\n",
    "        if studentgrade <= lower:\n",
    "            index = index + 1\n",
    "\n",
    "    print(\"The student got a numeric grade of \" + str(studentgrade) + \n",
    "        \" and their letter grade was \" + list_letters[index])\n"
=======
    "    for letter in list_letters:\n",
    "        if list_upper[index] >= studentgrade <= list_lower[index]:\n",
    "            print(\"The student got a numeric grade of \" + str(list_studentgrades[index]) + \n",
    "            \" and their letter grade was \" + letter)\n",
    "        index = index + 1\n",
    "\n"
>>>>>>> Stashed changes
   ]
  },
  {
   "cell_type": "code",
   "execution_count": null,
   "metadata": {},
   "outputs": [],
   "source": []
  }
 ],
 "metadata": {
  "kernelspec": {
   "display_name": "Python 3",
   "language": "python",
   "name": "python3"
  },
  "language_info": {
   "codemirror_mode": {
    "name": "ipython",
    "version": 3
   },
   "file_extension": ".py",
   "mimetype": "text/x-python",
   "name": "python",
   "nbconvert_exporter": "python",
   "pygments_lexer": "ipython3",
   "version": "3.11.1"
  },
  "orig_nbformat": 4,
  "vscode": {
   "interpreter": {
    "hash": "aee8b7b246df8f9039afb4144a1f6fd8d2ca17a180786b69acc140d282b71a49"
   }
  }
 },
 "nbformat": 4,
 "nbformat_minor": 2
}
