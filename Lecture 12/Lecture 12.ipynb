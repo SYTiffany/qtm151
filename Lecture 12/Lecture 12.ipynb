{
 "cells": [
  {
   "attachments": {},
   "cell_type": "markdown",
   "metadata": {},
   "source": [
    "# <span style=\"color:lightblue\"> Lecture 12: Application 2 - Random Assignment </span>\n",
    "\n",
    "<font size = \"5\">\n",
    "\n"
   ]
  },
  {
   "attachments": {},
   "cell_type": "markdown",
   "metadata": {},
   "source": [
    "# <span style=\"color:lightblue\"> I. Import Libraries and Data </span>\n"
   ]
  },
  {
   "cell_type": "code",
   "execution_count": null,
   "metadata": {},
   "outputs": [],
   "source": [
    "import numpy as np\n",
    "import pandas as pd\n",
    "import matplotlib.pyplot as plt"
   ]
  },
  {
   "cell_type": "code",
   "execution_count": null,
   "metadata": {},
   "outputs": [],
   "source": [
    "carfeatures = pd.read_csv(\"data_raw/features.csv\")"
   ]
  },
  {
   "attachments": {},
   "cell_type": "markdown",
   "metadata": {},
   "source": [
    "# <span style=\"color:lightblue\"> I. Random Assignment </span>\n",
    "\n",
    "<font size = \"5\">\n",
    "\n",
    "Random assignment is crucial for scientific progress ...\n",
    "\n",
    "- The basis for medical trials\n",
    "- Also used in engineering, the natural sciences and <br>\n",
    "  social sciences (economics, political science, etc.)\n"
   ]
  },
  {
   "cell_type": "code",
   "execution_count": null,
   "metadata": {},
   "outputs": [],
   "source": [
    "# \"list_status\" is a list with \"treatment/control\" arms\n",
    "# \"prop_status\" is the proportion in the treatment and control arms\n",
    "# \"size_dataset\" is how many rows are contained\n",
    "\n",
    "list_status  = [\"Treatment\",\"Control\"]\n",
    "prop_status  = [0.4,0.6]\n",
    "size_dataset = len(carfeatures)"
   ]
  },
  {
   "attachments": {},
   "cell_type": "markdown",
   "metadata": {},
   "source": [
    "<font size = \"5\">\n",
    "Random assignment\n"
   ]
  },
  {
   "cell_type": "code",
   "execution_count": null,
   "metadata": {},
   "outputs": [],
   "source": [
    "# The \"np.random.choice\" will create a vector with the status\n",
    "# We will save this to a column in \"carfeatures\"\n",
    "# Note: (i) We can always split the arguments of a function in multiple lines\n",
    "#           to make it easier to read\n",
    "\n",
    "carfeatures[\"status\"] = np.random.choice(list_status,\n",
    "                                         size = size_dataset,\n",
    "                                         p = prop_status)\n",
    "\n",
    "display(carfeatures)"
   ]
  },
  {
   "attachments": {},
   "cell_type": "markdown",
   "metadata": {},
   "source": [
    "<font size = \"5\">\n",
    "\n",
    "Compute frequencies by status"
   ]
  },
  {
   "cell_type": "code",
   "execution_count": null,
   "metadata": {},
   "outputs": [],
   "source": [
    "# The command \"pd.crosstab\" computes frequencies\n",
    "# If we add the option \"normalize\" it will compute proportions\n",
    "# Note: The default assignment is done randomly without replacement\n",
    "#       which means that the proportions are approximately the same   \n",
    "#       (but not equal) to \"prop_status\"\n",
    "\n",
    "frequency_table   = pd.crosstab(index = carfeatures[\"status\"], columns = \"Frequency\")\n",
    "proportions_table = pd.crosstab(index = carfeatures[\"status\"],\n",
    "                                columns = \"Frequency\",\n",
    "                                normalize = True)\n",
    "\n",
    "display(frequency_table)\n",
    "display(proportions_table)\n"
   ]
  },
  {
   "attachments": {},
   "cell_type": "markdown",
   "metadata": {},
   "source": [
    "<font size = \"5\">\n",
    "\n",
    "Query with string conditions"
   ]
  },
  {
   "cell_type": "code",
   "execution_count": null,
   "metadata": {},
   "outputs": [],
   "source": [
    "# When you have queries for text variables, it's important\n",
    "# to use outer ' ' single quotations\n",
    "# and inner double quotations.\n",
    "\n",
    "data_treated = carfeatures.query('status == \"Treatment\" ')\n",
    "data_control = carfeatures.query('status == \"Control\" ')"
   ]
  },
  {
   "attachments": {},
   "cell_type": "markdown",
   "metadata": {},
   "source": [
    "<font size = \"5\">\n",
    "\n",
    "Treated/control should be similar\n",
    "\n",
    "- This is the key principle of random assignment\n",
    "- We can check the summary statistics"
   ]
  },
  {
   "cell_type": "code",
   "execution_count": null,
   "metadata": {},
   "outputs": [],
   "source": [
    "# The count is different because we assigned different proportions\n",
    "# All other sumary statistics are approximately the same\n",
    "# They are not identical because the assignment is random\n",
    "\n",
    "display(data_treated.describe())\n",
    "display(data_control.describe())"
   ]
  },
  {
   "attachments": {},
   "cell_type": "markdown",
   "metadata": {},
   "source": [
    "## <span style=\"color:lightblue\"> III. Quiz Structure </span>\n",
    "\n",
    "<font size = \"5\">\n",
    "\n",
    "The day of the quiz I will ...\n",
    "- Provide a dataset with information\n",
    "- Give more specific instructions.\n",
    "- Below, you will see the type of questions that will be asked.\n",
    "- The idea is for you to apply known concepts to new data\n",
    "- You have 50 minutes to complete the assignment\n",
    "\n",
    "Questions\n",
    "\n",
    "(exact wording may change in quiz, but exercise will be very similar)\n"
   ]
  },
  {
   "attachments": {},
   "cell_type": "markdown",
   "metadata": {},
   "source": [
    "<font size = \"5\">\n",
    "\n",
    "(a) Create a function and apply it to a column\n",
    "\n",
    "- Check Lecture 8 for how to define a function\n",
    "- The function will have if/else statements and output a string\n",
    "- You will use \".apply()\" to create a new variable in the dataset <br>\n",
    "(see Lecture 9)"
   ]
  },
  {
   "cell_type": "code",
   "execution_count": null,
   "metadata": {},
   "outputs": [],
   "source": [
    "data  = pd.DataFrame([])\n",
    "data[\"mpg\"] = [4,4,3,6,7,6,7,8]\n",
    "\n",
    "def linearfn(x):\n",
    "    if x >= 5:\n",
    "        status = \"pass\"\n",
    "    else:\n",
    "        status = \"fail\"\n",
    "    return (status)\n",
    "    \n",
    "#status1 = linearfn( x = 60 )\n",
    "\n",
    "data[\"linear\"] = data[\"mpg\"].apply(linearfn)\n",
    "#or\n",
    "carfeatures[\"linear\"] = carfeatures[\"cylinders\"].apply(linearfn)"
   ]
  },
  {
   "attachments": {},
   "cell_type": "markdown",
   "metadata": {},
   "source": [
    "<font size = \"5\">\n",
    "\n",
    "(b) Use queries + global variables\n",
    "\n",
    "- You will be asked to compute certain summary statistics <br>\n",
    "(mean, median, etc)\n",
    "- The query will have multiple conditions\n",
    "- Then subset a dataset that meets certain conditions\n",
    "- See Lecture 10 for more details"
   ]
  },
  {
   "cell_type": "code",
   "execution_count": null,
   "metadata": {},
   "outputs": [],
   "source": [
    "#assignment 6 (d)\n",
    "\n",
    "# data -- datasetName\n",
    "#global variable medianvalue\n",
    "medianvalue = data[\"prop_urbanpopulation\"].median()\n",
    "\n",
    "data_median = data.query(\"prop_urbanpopulation > @medianvalue\")\n",
    "#query is used to subset\n",
    "display(data_median)"
   ]
  },
  {
   "cell_type": "code",
   "execution_count": null,
   "metadata": {},
   "outputs": [],
   "source": [
    "data_mpg_cylinders = carfeatures.query(\"(mpg >= 25) & (cylinders == 8)\")\n",
    "\n",
    "#global variable\n",
    "threshold = 25\n",
    "data_varthreshold_mpg = carfeatures.query(\"mpg >= @threshold\")"
   ]
  },
  {
   "attachments": {},
   "cell_type": "markdown",
   "metadata": {},
   "source": [
    "<font size = \"5\">\n",
    "\n",
    "(c) Use sorting + \".iloc[]\"\n",
    "\n",
    "- Extract the observations with the largest values of a column\n",
    "- See Lecture 10 for details"
   ]
  },
  {
   "cell_type": "code",
   "execution_count": null,
   "metadata": {},
   "outputs": [],
   "source": [
    "#read data\n",
    "wdi_data = pd.read_csv(\"data/wdi_2020.csv\")\n",
    "\n",
    "datasorted = wdi_data.sort_values(by = \"prop_urbanpopulation\", ascending= False)\n",
    "\n",
    "# Extract rows 0 to 5 前五排\n",
    "display(datasorted.iloc[0:5,:])\n",
    "\n",
    "#ascending -- 最小的\n",
    "#ascending False (descending) --最大的\n",
    "display(datasorted.iloc[0:1,:])"
   ]
  },
  {
   "attachments": {},
   "cell_type": "markdown",
   "metadata": {},
   "source": [
    "<font size = \"5\">\n",
    "\n",
    "(d) Split a dataset into subsets\n",
    "\n",
    "- You will be asked to randomly assign a status to each row\n",
    "- Split the data into separate datasets using \".query()\"\n",
    "- This will closely follow the material in Lecture 12 (this one)\n",
    "- You will need this result to answer questions (e), (f)\n"
   ]
  },
  {
   "cell_type": "code",
   "execution_count": null,
   "metadata": {},
   "outputs": [],
   "source": [
    "list_status  = [\"Treatment\",\"Control\"]\n",
    "prop_status  = [0.4,0.6]\n",
    "size_dataset = len(carfeatures)\n",
    "\n",
    "carfeatures[\"status\"] = np.random.choice(list_status,\n",
    "                                         size = size_dataset,\n",
    "                                         p = prop_status)\n",
    "\n",
    "data_treated = carfeatures.query('status == \"Treatment\" ')\n",
    "data_control = carfeatures.query('status == \"Control\" ')\n",
    "\n",
    "display(data_treated)\n",
    "display(data_control)"
   ]
  },
  {
   "attachments": {},
   "cell_type": "markdown",
   "metadata": {},
   "source": [
    "<font size = \"5\">\n",
    "\n",
    "(e) Create a function with four inputs $f(y,x,b0,b1)$\n",
    "\n",
    "- Start by using \"def\" to define the function\n",
    "- The function will include arithmetic operations (Lecture 3) <br>\n",
    "and summary statistics for pandas (mean, std, min, max, etc.)\n",
    "- You will be asked to test different values of $(y,x,b0,b1)$\n",
    "- You will get $y$ and $x$ from the two datasets in part (d)\n",
    "- Note: You will **not** be required to use the \"statsmodels\" library\n"
   ]
  },
  {
   "cell_type": "code",
   "execution_count": null,
   "metadata": {},
   "outputs": [],
   "source": [
    "def arithmeticfn (y,x,b0,b1):\n",
    "    F = y/x * b0 *b1\n",
    "    return(np.median(F))\n",
    "\n",
    "F1 = arithmeticfn(y = carfeatures[\"mpg\"], x = carfeatures[\"cylinders\"], b0 = 3, b1 = 4)\n",
    "\n",
    "print (F1)"
   ]
  },
  {
   "attachments": {},
   "cell_type": "markdown",
   "metadata": {},
   "source": [
    "<font size = \"5\">\n",
    "\n",
    "(f) Create two overlapping histogram plots\n",
    "\n",
    "- You will use a variable from the two datasets in (d)\n",
    "- You need to use the \"alpha\" option to make the graphs semitransparent\n",
    "- You will need to add a legend, label the axes, and the title\n",
    "- Note: The goal of this question is to illustrate that random <br>\n",
    "assignment produces very similar distributions between two groups"
   ]
  },
  {
   "cell_type": "code",
   "execution_count": null,
   "metadata": {},
   "outputs": [],
   "source": [
    "car_unique = pd.unique(carfeatures[\"status\"])\n",
    "\n",
    "for value in car_unique:\n",
    "    df = carfeatures.query(\"status== @value\")\n",
    "\n",
    "    plt.hist(df[\"mpg\"], alpha = 0.5)\n",
    "    plt.title(\"variable\")\n",
    "    plt.xlabel(\"status\")\n",
    "    plt.ylabel(\"mpg\")\n",
    "\n",
    "plt.legend(labels = car_unique)"
   ]
  }
 ],
 "metadata": {
  "kernelspec": {
   "display_name": "Python 3",
   "language": "python",
   "name": "python3"
  },
  "language_info": {
   "codemirror_mode": {
    "name": "ipython",
    "version": 3
   },
   "file_extension": ".py",
   "mimetype": "text/x-python",
   "name": "python",
   "nbconvert_exporter": "python",
   "pygments_lexer": "ipython3",
   "version": "3.11.1 (v3.11.1:a7a450f84a, Dec  6 2022, 15:24:06) [Clang 13.0.0 (clang-1300.0.29.30)]"
  },
  "orig_nbformat": 4,
  "vscode": {
   "interpreter": {
    "hash": "aee8b7b246df8f9039afb4144a1f6fd8d2ca17a180786b69acc140d282b71a49"
   }
  }
 },
 "nbformat": 4,
 "nbformat_minor": 2
}
