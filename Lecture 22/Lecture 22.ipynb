{
 "cells": [
  {
   "attachments": {},
   "cell_type": "markdown",
   "metadata": {},
   "source": [
    "# <span style=\"color:lightblue\"> Lecture 22 - Subsetting and Pivoting  </span>\n",
    "\n",
    "<font size = \"5\">\n"
   ]
  },
  {
   "attachments": {},
   "cell_type": "markdown",
   "metadata": {},
   "source": [
    "<font size = \"5\">\n",
    "\n",
    "In the previous class ...\n",
    "\n",
    "- ... we introduced parsing and\n",
    "- ... data manipulation with time\n",
    "\n",
    "In this class we will ...\n",
    "\n",
    "- Plot multiple series\n",
    "- Compute growth rates\n",
    "- Use merge/pivot to change layout of data"
   ]
  },
  {
   "attachments": {},
   "cell_type": "markdown",
   "metadata": {},
   "source": [
    "# <span style=\"color:lightblue\"> I. Import Libraries and Data </span>"
   ]
  },
  {
   "cell_type": "markdown",
   "metadata": {},
   "source": [
    "<font size = \"5\">\n",
    "\n",
    "Import libraries"
   ]
  },
  {
   "cell_type": "code",
   "execution_count": null,
   "metadata": {},
   "outputs": [],
   "source": [
    "# \"pandas\" processes datasets\n",
    "# \"maplotlib.pyplot\" generates graphs\n",
    "\n",
    "import pandas as pd\n",
    "import matplotlib.pyplot as plt\n"
   ]
  },
  {
   "attachments": {},
   "cell_type": "markdown",
   "metadata": {},
   "source": [
    "<font size = \"5\">\n",
    "\n",
    "Import data"
   ]
  },
  {
   "cell_type": "code",
   "execution_count": null,
   "metadata": {},
   "outputs": [],
   "source": [
    "financial      = pd.read_csv(\"data_raw/financial.csv\")"
   ]
  },
  {
   "attachments": {},
   "cell_type": "markdown",
   "metadata": {},
   "source": [
    "<font size = \"5\">\n",
    "\n",
    "Parse data and sort dataset"
   ]
  },
  {
   "cell_type": "code",
   "execution_count": null,
   "metadata": {},
   "outputs": [],
   "source": [
    "financial[\"date\"] = pd.to_datetime(financial[\"date_str\"])\n",
    "financial         = financial.sort_values(\"date\",ascending = True)"
   ]
  },
  {
   "attachments": {},
   "cell_type": "markdown",
   "metadata": {},
   "source": [
    "<font size = \"5\">\n",
    "\n",
    "Plot multiple columns"
   ]
  },
  {
   "cell_type": "code",
   "execution_count": null,
   "metadata": {},
   "outputs": [],
   "source": [
    "# Enter the x-axis column and y-axis columns you \n",
    "# wish to include. Specify the x-axis column with \"set_index()\"\n",
    "# This applies to any line plot, with or without dates\n",
    "# The legend is the box with the name of the lines\n",
    "# If you drop the \".legend()\" command this will assign\n",
    "# the default column names to the legend.\n",
    "\n",
    "\n",
    "financial[[\"date\",\"sp500\",\"djia\"]].set_index(\"date\").plot()\n",
    "plt.xlabel(\"Time\")\n",
    "plt.ylabel(\"Value of Index Funds\")\n",
    "plt.legend([\"S&P 500\",\"Dow Jones\"])\n"
   ]
  },
  {
   "attachments": {},
   "cell_type": "markdown",
   "metadata": {},
   "source": [
    "<font size = \"5\">\n",
    "\n",
    "Remarks ...\n",
    "\n",
    "- The S\\&P 500 and Dow Jones have different units.\n",
    "- More sensible to compare their growth rate!\n"
   ]
  },
  {
   "attachments": {},
   "cell_type": "markdown",
   "metadata": {},
   "source": [
    "# <span style=\"color:lightblue\"> II. Time Difference/Growth </span>"
   ]
  },
  {
   "attachments": {},
   "cell_type": "markdown",
   "metadata": {},
   "source": [
    "<font size = \"5\">\n",
    "\n",
    "Change between periods"
   ]
  },
  {
   "cell_type": "code",
   "execution_count": null,
   "metadata": {},
   "outputs": [],
   "source": [
    "# First sort columns by date. The second computes the\n",
    "# differences in \"sp500\" between each row and the one before it\n",
    "# By convention, the first row gets a missing value because\n",
    "# there is nothing to compare. For this to work, it's important\n",
    "# that the dataset is sorted.\n",
    "\n",
    "financial[\"diff_sp500\"] = financial[\"sp500\"].diff()\n",
    "\n",
    "display(financial[[\"sp500\", \"diff_sp500\"]])"
   ]
  },
  {
   "attachments": {},
   "cell_type": "markdown",
   "metadata": {},
   "source": [
    "<font size = \"5\">\n",
    "\n",
    "Compute lag + percentage growth"
   ]
  },
  {
   "cell_type": "code",
   "execution_count": null,
   "metadata": {},
   "outputs": [],
   "source": [
    "# \".shif(1)\" compute a new column with the value of \"sp500\"\n",
    "# one period before. By convention the first column is assigned\n",
    "# a missing value\n",
    "# We can combine \".diff()\" and \".shift()\" to compute growth rates\n",
    "\n",
    "financial[\"lag_sp500\"]    = financial[\"sp500\"].shift(1)\n",
    "\n",
    "financial[\"growth_sp500\"] = financial[\"diff_sp500\"]* 100/financial[\"lag_sp500\"]\n",
    "\n",
    "display(financial[[\"sp500\", \"lag_sp500\",\"diff_sp500\", \"growth_sp500\"]])\n"
   ]
  },
  {
   "attachments": {},
   "cell_type": "markdown",
   "metadata": {},
   "source": [
    "<font size = \"5\">\n",
    "\n",
    "Time between dates"
   ]
  },
  {
   "cell_type": "code",
   "execution_count": null,
   "metadata": {},
   "outputs": [],
   "source": [
    "# In the financial data example, the price of the stock portfolios isn't recorded\n",
    "# on weekends. Sometimes it's important to account for these differences in the\n",
    "# legnth between time periods, when accounting for growth rates\n",
    "# Can compute dt.days, dt.months, dt.year, etc.\n",
    "\n",
    "financial[\"diff_date\"]  = financial[\"date\"]-financial[\"date\"].shift(1)\n",
    "financial[\"count_days\"] = financial[\"diff_date\"].dt.days\n",
    "display(financial[[\"diff_date\", \"count_days\"]])"
   ]
  },
  {
   "attachments": {},
   "cell_type": "markdown",
   "metadata": {},
   "source": [
    "<font size = \"5\">\n",
    "\n",
    "Plot growth"
   ]
  },
  {
   "cell_type": "code",
   "execution_count": null,
   "metadata": {},
   "outputs": [],
   "source": [
    "plt.plot(\"date\", \"growth_sp500\",\n",
    "          data = financial.sort_values(\"date\",ascending = True))\n",
    "plt.xlabel(\"Time\")\n",
    "plt.ylabel(\"Daily percentage change \")\n",
    "plt.title(\"Change in the S&P 500 Index\")"
   ]
  },
  {
   "attachments": {},
   "cell_type": "markdown",
   "metadata": {},
   "source": [
    "<font size = \"5\" >\n",
    "\n",
    "Try it yourself!\n",
    "\n",
    "- Compute a column with the growth of the Dow Jones\n",
    "- Plot the growth of the S&P 500 and Dow Jones in a <br>\n",
    "single plot"
   ]
  },
  {
   "cell_type": "code",
   "execution_count": null,
   "metadata": {},
   "outputs": [],
   "source": [
    "# Write your own code\n",
    "\n",
    "financial[\"diff_djia\"]   = financial[\"djia\"].diff()\n",
    "financial[\"lag_djia\"]    = financial[\"djia\"].shift(1)\n",
    "financial[\"growth_djia\"] = financial[\"diff_djia\"]*100 / financial[\"lag_djia\"]\n",
    "\n",
    "plt.plot(\"date\", \"growth_djia\", data = financial.sort_values(\"date\", ascending = True))\n",
    "plt.plot(\"date\", \"growth_sp500\", data = financial.sort_values(\"date\", ascending = True))\n",
    "\n",
    "plt.xlabel(\"Time\")\n",
    "plt.ylabel(\"Daily percentage change\")\n",
    "plt.title(\"change in the dow jones index\")"
   ]
  },
  {
   "attachments": {},
   "cell_type": "markdown",
   "metadata": {},
   "source": [
    "# <span style=\"color:lightblue\"> III. Subsetting with time data </span>"
   ]
  },
  {
   "attachments": {},
   "cell_type": "markdown",
   "metadata": {},
   "source": [
    "<font size = \"5\" >\n",
    "\n",
    "Subsetting before/after"
   ]
  },
  {
   "cell_type": "code",
   "execution_count": null,
   "metadata": {},
   "outputs": [],
   "source": [
    "# Since the \"date\" column has a time format, Python\n",
    "# will interpret \"2019-01-01\" as a date inside the query command\n",
    "# Note: remember that you have to use single quotations for \".query()\"\n",
    "\n",
    "subset_before  = financial.query('date >= \"2019-01-01\" ')\n",
    "subset_after   = financial.query('date <= \"2020-01-01\" ')\n"
   ]
  },
  {
   "attachments": {},
   "cell_type": "markdown",
   "metadata": {},
   "source": [
    "<font size = \"5\" >\n",
    "\n",
    "Obtain a subset between"
   ]
  },
  {
   "cell_type": "code",
   "execution_count": null,
   "metadata": {},
   "outputs": [],
   "source": [
    "# This command applies the function \".between()\" to the column\n",
    "\n",
    "subset_between = financial.query('date.between(\"2020-03-01\",\"2020-05-01\")')"
   ]
  },
  {
   "attachments": {},
   "cell_type": "markdown",
   "metadata": {},
   "source": [
    "<font size = \"5\">\n",
    "\n",
    "Flag observations"
   ]
  },
  {
   "cell_type": "code",
   "execution_count": null,
   "metadata": {},
   "outputs": [],
   "source": [
    "financial[\"bool_period\"]  = financial[\"date\"].between(\"2020-03-01\",\"2020-05-01\")\n",
    "financial[\"bool_example\"] = financial[\"growth_sp500\"] > 5"
   ]
  },
  {
   "attachments": {},
   "cell_type": "markdown",
   "metadata": {},
   "source": [
    "<font size = \"5\">\n",
    "\n",
    "Plot results"
   ]
  },
  {
   "cell_type": "code",
   "execution_count": null,
   "metadata": {},
   "outputs": [],
   "source": [
    "# Create a line plot\n",
    "plt.plot(\"date\", \"growth_sp500\", data = financial)\n",
    "plt.xlabel(\"Time\")\n",
    "plt.ylabel(\"Daily percentage change \")\n",
    "plt.title(\"The S&P 500 during the start of COVID\")\n",
    "\n",
    "# Add a shaded region wth a rectangle\n",
    "# \"x\" is the x-coordinates, \"y1\" and \"y2\" are the lower\n",
    "# and upper bounds of the rectangle. We can set this\n",
    "# to be the minimum and meximum of the outcome.\n",
    "# we use \"where\" to test a logical condition\n",
    "\n",
    "vec_y = financial[\"growth_sp500\"]\n",
    "plt.fill_between(x= financial[\"date\"],\n",
    "                 y1 = vec_y.min(),\n",
    "                 y2 = vec_y.max(),\n",
    "                 where = financial[\"bool_period\"],\n",
    "                 alpha = 0.2,color = \"red\")\n",
    "\n",
    "plt.show()"
   ]
  },
  {
   "attachments": {},
   "cell_type": "markdown",
   "metadata": {},
   "source": [
    "<font size = \"5\">\n",
    "\n",
    "Try it yourself!\n",
    "\n",
    "- Generate a plot of the daily growth of the Dow Jones \n",
    "- Highlight regions where there was growth higher than 4\\% <br>\n",
    "or below -4\\%"
   ]
  },
  {
   "cell_type": "code",
   "execution_count": null,
   "metadata": {},
   "outputs": [],
   "source": [
    "# Write your own code\n",
    "\n",
    "financial[\"bool_djia\"]  = (financial[\"growth_djia\"] > 4) | (financial[\"growth_djia\"] < -4)\n",
    "\n",
    "plt.plot(\"date\", \"growth_sp500\", data = financial)\n",
    "plt.xlabel(\"Time\")\n",
    "plt.ylabel(\"Daily percentage change \")\n",
    "plt.title(\"The S&P 500 during the start of COVID\")\n",
    "\n",
    "vec_y = financial[\"growth_djia\"]\n",
    "plt.fill_between(x= financial[\"date\"],\n",
    "                 y1 = vec_y.min(),\n",
    "                 y2 = vec_y.max(),\n",
    "                 where = financial[\"bool_djia\"],\n",
    "                 alpha = 0.2,color = \"red\")\n",
    "\n",
    "plt.show()\n",
    "\n",
    "# y1 and y2 are set\n",
    "# \"where\" is to change the data frame"
   ]
  },
  {
   "attachments": {},
   "cell_type": "markdown",
   "metadata": {},
   "source": [
    "# <span style=\"color:lightblue\"> IV. Wide and Long Format </span>\n",
    "\n",
    "<font size = \"5\">\n",
    "\n",
    "Data can come in a wide variety of formats\n",
    "\n",
    "- Few rows, multiple columns (wide)\n",
    "- Stacked rows, few columns (long)\n",
    "- The **information** is the same!"
   ]
  },
  {
   "attachments": {},
   "cell_type": "markdown",
   "metadata": {},
   "source": [
    "<font size = \"5\">\n",
    "\n",
    "Wide to long\n",
    "\n",
    "$\\quad$ <img src=\"figures/melt_fig.png\" alt=\"drawing\" width=\"550\"/>"
   ]
  },
  {
   "cell_type": "code",
   "execution_count": null,
   "metadata": {},
   "outputs": [],
   "source": [
    "financial_long = pd.melt(financial,\n",
    "                         var_name   = \"portfolio_type\",\n",
    "                         value_name = \"portfolio_value\",\n",
    "                         id_vars='date',\n",
    "                         value_vars=['sp500','djia'])\n",
    "\n",
    "display(financial_long)"
   ]
  },
  {
   "attachments": {},
   "cell_type": "markdown",
   "metadata": {},
   "source": [
    "<font size = \"5\">\n",
    "\n",
    "Long to wide\n",
    "\n",
    "$\\quad$ <img src=\"figures/pivot_fig.png\" alt=\"drawing\" width=\"550\"/>"
   ]
  },
  {
   "cell_type": "code",
   "execution_count": null,
   "metadata": {},
   "outputs": [],
   "source": [
    "financial_wide = (pd.pivot(financial_long,\n",
    "                           index = 'date',\n",
    "                           columns = 'portfolio_type',\n",
    "                           values =  'portfolio_value'))\n",
    "\n",
    "# If you also want the index to be part of the dataset add\n",
    "# \".reset_index()\" to the end of the previous command"
   ]
  },
  {
   "attachments": {},
   "cell_type": "markdown",
   "metadata": {},
   "source": [
    "<font size = \"5\">\n",
    "\n",
    "Try it yourself!\n",
    "\n",
    "- Convert the \"growth_sp500\" and <br>\n",
    "\"growth_djia\" to long format"
   ]
  },
  {
   "cell_type": "code",
   "execution_count": null,
   "metadata": {},
   "outputs": [],
   "source": [
    "# Write your own code\n",
    "\n",
    "growth_wide = pd.melt(financial,\n",
    "                     var_name   = \"growth_sp500\",\n",
    "                     value_name = \"growth_djia\",\n",
    "                     id_vars = 'date',\n",
    "                     value_vars = ['growth_sp500','growth_djia'])\n"
   ]
  }
 ],
 "metadata": {
  "kernelspec": {
   "display_name": "Python 3",
   "language": "python",
   "name": "python3"
  },
  "language_info": {
   "codemirror_mode": {
    "name": "ipython",
    "version": 3
   },
   "file_extension": ".py",
   "mimetype": "text/x-python",
   "name": "python",
   "nbconvert_exporter": "python",
   "pygments_lexer": "ipython3",
   "version": "3.11.1"
  },
  "orig_nbformat": 4,
  "vscode": {
   "interpreter": {
    "hash": "aee8b7b246df8f9039afb4144a1f6fd8d2ca17a180786b69acc140d282b71a49"
   }
  }
 },
 "nbformat": 4,
 "nbformat_minor": 2
}
